{
 "cells": [
  {
   "cell_type": "code",
   "execution_count": 4,
   "metadata": {
    "id": "3OsqdiMGdyoJ"
   },
   "outputs": [],
   "source": [
    "import pandas as pd\n",
    "import numpy as np"
   ]
  },
  {
   "cell_type": "code",
   "execution_count": 5,
   "metadata": {
    "id": "6Tx4r7LRd1br"
   },
   "outputs": [],
   "source": [
    "df1 = pd.read_csv('data/교량_통합_정제.csv')"
   ]
  },
  {
   "cell_type": "code",
   "execution_count": 6,
   "metadata": {},
   "outputs": [
    {
     "name": "stdout",
     "output_type": "stream",
     "text": [
      "<class 'pandas.core.frame.DataFrame'>\n",
      "RangeIndex: 5680 entries, 0 to 5679\n",
      "Data columns (total 14 columns):\n",
      " #   Column     Non-Null Count  Dtype  \n",
      "---  ------     --------------  -----  \n",
      " 0   교량명        5680 non-null   object \n",
      " 1   시설물종별등급구분  5680 non-null   object \n",
      " 2   시도명        5680 non-null   object \n",
      " 3   시군구명       5680 non-null   object \n",
      " 4   교량연장       5680 non-null   float64\n",
      " 5   교량폭        5680 non-null   float64\n",
      " 6   차로수        5680 non-null   int64  \n",
      " 7   상부구조형식     5680 non-null   object \n",
      " 8   최종안전점검결과   5680 non-null   object \n",
      " 9   설계활하중      5680 non-null   object \n",
      " 10  준공후경과년수    5680 non-null   int64  \n",
      " 11  경간수        5680 non-null   float64\n",
      " 12  최대경간장      5680 non-null   float64\n",
      " 13  교통량        4446 non-null   float64\n",
      "dtypes: float64(5), int64(2), object(7)\n",
      "memory usage: 621.4+ KB\n"
     ]
    }
   ],
   "source": [
    "df1.info()"
   ]
  },
  {
   "cell_type": "code",
   "execution_count": 7,
   "metadata": {
    "colab": {
     "base_uri": "https://localhost:8080/"
    },
    "executionInfo": {
     "elapsed": 5,
     "status": "ok",
     "timestamp": 1684383881233,
     "user": {
      "displayName": "이경훈",
      "userId": "01671798524273497956"
     },
     "user_tz": -540
    },
    "id": "o7NcVbJ2d39B",
    "outputId": "8f182671-076b-4bdc-de78-06f64368b581"
   },
   "outputs": [
    {
     "data": {
      "text/plain": [
       "1234"
      ]
     },
     "execution_count": 7,
     "metadata": {},
     "output_type": "execute_result"
    }
   ],
   "source": [
    "df1['교통량'].isna().sum()"
   ]
  },
  {
   "cell_type": "code",
   "execution_count": 8,
   "metadata": {
    "colab": {
     "base_uri": "https://localhost:8080/"
    },
    "executionInfo": {
     "elapsed": 3,
     "status": "ok",
     "timestamp": 1684383883117,
     "user": {
      "displayName": "이경훈",
      "userId": "01671798524273497956"
     },
     "user_tz": -540
    },
    "id": "bHNEj9IQd6CK",
    "outputId": "b829a52d-6a96-44e5-c345-87eac6f90e22"
   },
   "outputs": [
    {
     "data": {
      "text/plain": [
       "92"
      ]
     },
     "execution_count": 8,
     "metadata": {},
     "output_type": "execute_result"
    }
   ],
   "source": [
    "df1['교통량'].isin([0]).sum()"
   ]
  },
  {
   "cell_type": "code",
   "execution_count": 9,
   "metadata": {
    "colab": {
     "base_uri": "https://localhost:8080/"
    },
    "executionInfo": {
     "elapsed": 3,
     "status": "ok",
     "timestamp": 1684383886323,
     "user": {
      "displayName": "이경훈",
      "userId": "01671798524273497956"
     },
     "user_tz": -540
    },
    "id": "lzzs_tfCeK40",
    "outputId": "666aa101-8e44-4097-ce56-2f5164102b8b"
   },
   "outputs": [
    {
     "data": {
      "text/plain": [
       "(array([ 910,  911,  912, ..., 5224, 5433, 5648], dtype=int64),)"
      ]
     },
     "execution_count": 9,
     "metadata": {},
     "output_type": "execute_result"
    }
   ],
   "source": [
    "np.where(df1['교통량'].isna())"
   ]
  },
  {
   "cell_type": "code",
   "execution_count": 10,
   "metadata": {
    "colab": {
     "base_uri": "https://localhost:8080/"
    },
    "executionInfo": {
     "elapsed": 4,
     "status": "ok",
     "timestamp": 1684383887739,
     "user": {
      "displayName": "이경훈",
      "userId": "01671798524273497956"
     },
     "user_tz": -540
    },
    "id": "lzLmbrVVeKZy",
    "outputId": "5f14b876-287f-4ed0-b11c-0dfea1f20d10"
   },
   "outputs": [
    {
     "data": {
      "text/plain": [
       "(array([ 918,  938, 1030, 1031, 1032, 1039, 1040, 1067, 1072, 1088, 1090,\n",
       "        1097, 1099, 1101, 1167, 1172, 1175, 1271, 1272, 1695, 1787, 1806,\n",
       "        1808, 2145, 2146, 2147, 2148, 2149, 2151, 2152, 2156, 2225, 2227,\n",
       "        2252, 2253, 2255, 2256, 2257, 2259, 2308, 2316, 2317, 2328, 2331,\n",
       "        2332, 2337, 2339, 2340, 2341, 2441, 2445, 2488, 2489, 2490, 2491,\n",
       "        2493, 2494, 2495, 2496, 2497, 2499, 2500, 2502, 2503, 2504, 2505,\n",
       "        2506, 2507, 2508, 2511, 2514, 2519, 2629, 2630, 2696, 2698, 2708,\n",
       "        2741, 2744, 2929, 2972, 2995, 2998, 3123, 3308, 3309, 3324, 3332,\n",
       "        3333, 3335, 3355, 3363], dtype=int64),)"
      ]
     },
     "execution_count": 10,
     "metadata": {},
     "output_type": "execute_result"
    }
   ],
   "source": [
    "np.where(df1['교통량']==0)"
   ]
  },
  {
   "cell_type": "code",
   "execution_count": 11,
   "metadata": {
    "id": "NDnmepfPxOAS"
   },
   "outputs": [],
   "source": [
    "df1 = df1.rename(columns={'시도명': '시도','시군구명':'시군구'})"
   ]
  },
  {
   "cell_type": "markdown",
   "metadata": {
    "id": "sguHAB3NzsMW"
   },
   "source": [
    "## 서울"
   ]
  },
  {
   "cell_type": "code",
   "execution_count": 12,
   "metadata": {
    "colab": {
     "base_uri": "https://localhost:8080/"
    },
    "executionInfo": {
     "elapsed": 6,
     "status": "ok",
     "timestamp": 1684383894417,
     "user": {
      "displayName": "이경훈",
      "userId": "01671798524273497956"
     },
     "user_tz": -540
    },
    "id": "bfC2NekgeOPl",
    "outputId": "a06cb188-cfe2-4e03-dd54-4abc7df0e3e9"
   },
   "outputs": [
    {
     "name": "stdout",
     "output_type": "stream",
     "text": [
      "Empty DataFrame\n",
      "Columns: [교량명, 시설물종별등급구분, 시도, 시군구, 교량연장, 교량폭, 차로수, 상부구조형식, 최종안전점검결과, 설계활하중, 준공후경과년수, 경간수, 최대경간장, 교통량]\n",
      "Index: []\n",
      "Empty DataFrame\n",
      "Columns: [교량명, 시설물종별등급구분, 시도, 시군구, 교량연장, 교량폭, 차로수, 상부구조형식, 최종안전점검결과, 설계활하중, 준공후경과년수, 경간수, 최대경간장, 교통량]\n",
      "Index: []\n"
     ]
    }
   ],
   "source": [
    "# 동작구\n",
    "df1['교통량']= np.where((df1['교통량'].isna()) & (df1['시군구']=='동작구'), 35000 , df1['교통량'])\n",
    "df1['교통량']= np.where((df1['교통량']==0) & (df1['시군구']=='동작구'), 35000 , df1['교통량'])\n",
    "print(df1.loc[(df1['교통량'].isna()) & (df1['시군구']=='동작구')])\n",
    "print(df1.loc[(df1['교통량']==0) & (df1['시군구']=='동작구')])"
   ]
  },
  {
   "cell_type": "code",
   "execution_count": 13,
   "metadata": {
    "colab": {
     "base_uri": "https://localhost:8080/"
    },
    "executionInfo": {
     "elapsed": 4,
     "status": "ok",
     "timestamp": 1684383896984,
     "user": {
      "displayName": "이경훈",
      "userId": "01671798524273497956"
     },
     "user_tz": -540
    },
    "id": "Bwx8rJLVeuWx",
    "outputId": "ed28e8e5-2bde-490d-b609-c40b8b5b0005"
   },
   "outputs": [
    {
     "name": "stdout",
     "output_type": "stream",
     "text": [
      "Empty DataFrame\n",
      "Columns: [교량명, 시설물종별등급구분, 시도, 시군구, 교량연장, 교량폭, 차로수, 상부구조형식, 최종안전점검결과, 설계활하중, 준공후경과년수, 경간수, 최대경간장, 교통량]\n",
      "Index: []\n",
      "Empty DataFrame\n",
      "Columns: [교량명, 시설물종별등급구분, 시도, 시군구, 교량연장, 교량폭, 차로수, 상부구조형식, 최종안전점검결과, 설계활하중, 준공후경과년수, 경간수, 최대경간장, 교통량]\n",
      "Index: []\n"
     ]
    }
   ],
   "source": [
    "# 성북구\n",
    "df1['교통량']= np.where((df1['교통량'].isna()) & (df1['시군구']=='성북구'), 27000 , df1['교통량'])\n",
    "df1['교통량']= np.where((df1['교통량']==0) & (df1['시군구']=='성북구'), 27000 , df1['교통량'])\n",
    "print(df1.loc[(df1['교통량'].isna()) & (df1['시군구']=='성북구')])\n",
    "print(df1.loc[(df1['교통량']==0) & (df1['시군구']=='성북구')])"
   ]
  },
  {
   "cell_type": "code",
   "execution_count": 14,
   "metadata": {
    "colab": {
     "base_uri": "https://localhost:8080/"
    },
    "executionInfo": {
     "elapsed": 4,
     "status": "ok",
     "timestamp": 1684383899496,
     "user": {
      "displayName": "이경훈",
      "userId": "01671798524273497956"
     },
     "user_tz": -540
    },
    "id": "1VXvDewye7Cb",
    "outputId": "fece9993-b848-474c-e8d4-d5e8f32b441a"
   },
   "outputs": [
    {
     "name": "stdout",
     "output_type": "stream",
     "text": [
      "Empty DataFrame\n",
      "Columns: [교량명, 시설물종별등급구분, 시도, 시군구, 교량연장, 교량폭, 차로수, 상부구조형식, 최종안전점검결과, 설계활하중, 준공후경과년수, 경간수, 최대경간장, 교통량]\n",
      "Index: []\n",
      "Empty DataFrame\n",
      "Columns: [교량명, 시설물종별등급구분, 시도, 시군구, 교량연장, 교량폭, 차로수, 상부구조형식, 최종안전점검결과, 설계활하중, 준공후경과년수, 경간수, 최대경간장, 교통량]\n",
      "Index: []\n"
     ]
    }
   ],
   "source": [
    "# 양천구\n",
    "df1['교통량']= np.where((df1['교통량'].isna()) & (df1['시군구']=='양천구'), 35000 , df1['교통량'])\n",
    "df1['교통량']= np.where((df1['교통량']==0) & (df1['시군구']=='양천구'), 35000 , df1['교통량'])\n",
    "print(df1.loc[(df1['교통량'].isna()) & (df1['시군구']=='양천구')])\n",
    "print(df1.loc[(df1['교통량']==0) & (df1['시군구']=='양천구')])"
   ]
  },
  {
   "cell_type": "code",
   "execution_count": 15,
   "metadata": {
    "colab": {
     "base_uri": "https://localhost:8080/"
    },
    "executionInfo": {
     "elapsed": 3,
     "status": "ok",
     "timestamp": 1684383902437,
     "user": {
      "displayName": "이경훈",
      "userId": "01671798524273497956"
     },
     "user_tz": -540
    },
    "id": "TPrhZenDfjoF",
    "outputId": "58667f5d-9416-401e-9dfb-096e39b21a66"
   },
   "outputs": [
    {
     "name": "stdout",
     "output_type": "stream",
     "text": [
      "Empty DataFrame\n",
      "Columns: [교량명, 시설물종별등급구분, 시도, 시군구, 교량연장, 교량폭, 차로수, 상부구조형식, 최종안전점검결과, 설계활하중, 준공후경과년수, 경간수, 최대경간장, 교통량]\n",
      "Index: []\n",
      "Empty DataFrame\n",
      "Columns: [교량명, 시설물종별등급구분, 시도, 시군구, 교량연장, 교량폭, 차로수, 상부구조형식, 최종안전점검결과, 설계활하중, 준공후경과년수, 경간수, 최대경간장, 교통량]\n",
      "Index: []\n"
     ]
    }
   ],
   "source": [
    "# 강북구\n",
    "df1['교통량']= np.where((df1['교통량'].isna()) & (df1['시군구']=='강북구'), 21000 , df1['교통량'])\n",
    "df1['교통량']= np.where((df1['교통량']==0) & (df1['시군구']=='강북구'), 21000 , df1['교통량'])\n",
    "print(df1.loc[(df1['교통량'].isna()) & (df1['시군구']=='강북구')])\n",
    "print(df1.loc[(df1['교통량']==0) & (df1['시군구']=='강북구')])"
   ]
  },
  {
   "cell_type": "code",
   "execution_count": 16,
   "metadata": {
    "colab": {
     "base_uri": "https://localhost:8080/"
    },
    "executionInfo": {
     "elapsed": 432,
     "status": "ok",
     "timestamp": 1684383905301,
     "user": {
      "displayName": "이경훈",
      "userId": "01671798524273497956"
     },
     "user_tz": -540
    },
    "id": "eCHKBmDPfuiJ",
    "outputId": "1d9bfc3c-fd89-417f-e9f1-7a61845beefb"
   },
   "outputs": [
    {
     "name": "stdout",
     "output_type": "stream",
     "text": [
      "Empty DataFrame\n",
      "Columns: [교량명, 시설물종별등급구분, 시도, 시군구, 교량연장, 교량폭, 차로수, 상부구조형식, 최종안전점검결과, 설계활하중, 준공후경과년수, 경간수, 최대경간장, 교통량]\n",
      "Index: []\n",
      "Empty DataFrame\n",
      "Columns: [교량명, 시설물종별등급구분, 시도, 시군구, 교량연장, 교량폭, 차로수, 상부구조형식, 최종안전점검결과, 설계활하중, 준공후경과년수, 경간수, 최대경간장, 교통량]\n",
      "Index: []\n"
     ]
    }
   ],
   "source": [
    "# 관악구\n",
    "df1['교통량']= np.where((df1['교통량'].isna()) & (df1['시군구']=='관악구'), 39000 , df1['교통량'])\n",
    "df1['교통량']= np.where((df1['교통량']==0) & (df1['시군구']=='관악구'), 39000 , df1['교통량'])\n",
    "print(df1.loc[(df1['교통량'].isna()) & (df1['시군구']=='관악구')])\n",
    "print(df1.loc[(df1['교통량']==0) & (df1['시군구']=='관악구')])"
   ]
  },
  {
   "cell_type": "code",
   "execution_count": 17,
   "metadata": {
    "colab": {
     "base_uri": "https://localhost:8080/"
    },
    "executionInfo": {
     "elapsed": 392,
     "status": "ok",
     "timestamp": 1684383907990,
     "user": {
      "displayName": "이경훈",
      "userId": "01671798524273497956"
     },
     "user_tz": -540
    },
    "id": "OyEMszuzgRD_",
    "outputId": "07c3fe52-1a6c-4820-e625-3929d5c25c26"
   },
   "outputs": [
    {
     "name": "stdout",
     "output_type": "stream",
     "text": [
      "Empty DataFrame\n",
      "Columns: [교량명, 시설물종별등급구분, 시도, 시군구, 교량연장, 교량폭, 차로수, 상부구조형식, 최종안전점검결과, 설계활하중, 준공후경과년수, 경간수, 최대경간장, 교통량]\n",
      "Index: []\n",
      "Empty DataFrame\n",
      "Columns: [교량명, 시설물종별등급구분, 시도, 시군구, 교량연장, 교량폭, 차로수, 상부구조형식, 최종안전점검결과, 설계활하중, 준공후경과년수, 경간수, 최대경간장, 교통량]\n",
      "Index: []\n"
     ]
    }
   ],
   "source": [
    "# 구로구\n",
    "df1['교통량']= np.where((df1['교통량'].isna()) & (df1['시군구']=='구로구'), 24000 , df1['교통량'])\n",
    "df1['교통량']= np.where((df1['교통량']==0) & (df1['시군구']=='구로구'), 24000 , df1['교통량'])\n",
    "print(df1.loc[(df1['교통량'].isna()) & (df1['시군구']=='구로구')])\n",
    "print(df1.loc[(df1['교통량']==0) & (df1['시군구']=='구로구')])"
   ]
  },
  {
   "cell_type": "code",
   "execution_count": 18,
   "metadata": {
    "colab": {
     "base_uri": "https://localhost:8080/"
    },
    "executionInfo": {
     "elapsed": 7,
     "status": "ok",
     "timestamp": 1684383910858,
     "user": {
      "displayName": "이경훈",
      "userId": "01671798524273497956"
     },
     "user_tz": -540
    },
    "id": "qe3plL9FgfWz",
    "outputId": "9e7b0840-e916-4fba-cac2-f3e015510d46"
   },
   "outputs": [
    {
     "name": "stdout",
     "output_type": "stream",
     "text": [
      "Empty DataFrame\n",
      "Columns: [교량명, 시설물종별등급구분, 시도, 시군구, 교량연장, 교량폭, 차로수, 상부구조형식, 최종안전점검결과, 설계활하중, 준공후경과년수, 경간수, 최대경간장, 교통량]\n",
      "Index: []\n",
      "Empty DataFrame\n",
      "Columns: [교량명, 시설물종별등급구분, 시도, 시군구, 교량연장, 교량폭, 차로수, 상부구조형식, 최종안전점검결과, 설계활하중, 준공후경과년수, 경간수, 최대경간장, 교통량]\n",
      "Index: []\n"
     ]
    }
   ],
   "source": [
    "# 도봉구\n",
    "df1['교통량']= np.where((df1['교통량'].isna()) & (df1['시군구']=='도봉구'), 21000 , df1['교통량'])\n",
    "df1['교통량']= np.where((df1['교통량']==0) & (df1['시군구']=='도봉구'), 21000 , df1['교통량'])\n",
    "print(df1.loc[(df1['교통량'].isna()) & (df1['시군구']=='도봉구')])\n",
    "print(df1.loc[(df1['교통량']==0) & (df1['시군구']=='도봉구')])"
   ]
  },
  {
   "cell_type": "code",
   "execution_count": 19,
   "metadata": {
    "colab": {
     "base_uri": "https://localhost:8080/"
    },
    "executionInfo": {
     "elapsed": 5,
     "status": "ok",
     "timestamp": 1684383913738,
     "user": {
      "displayName": "이경훈",
      "userId": "01671798524273497956"
     },
     "user_tz": -540
    },
    "id": "ID9e4vrJgt1W",
    "outputId": "c33d9d66-a354-490a-e07d-113d98cb0826"
   },
   "outputs": [
    {
     "name": "stdout",
     "output_type": "stream",
     "text": [
      "Empty DataFrame\n",
      "Columns: [교량명, 시설물종별등급구분, 시도, 시군구, 교량연장, 교량폭, 차로수, 상부구조형식, 최종안전점검결과, 설계활하중, 준공후경과년수, 경간수, 최대경간장, 교통량]\n",
      "Index: []\n",
      "Empty DataFrame\n",
      "Columns: [교량명, 시설물종별등급구분, 시도, 시군구, 교량연장, 교량폭, 차로수, 상부구조형식, 최종안전점검결과, 설계활하중, 준공후경과년수, 경간수, 최대경간장, 교통량]\n",
      "Index: []\n"
     ]
    }
   ],
   "source": [
    "# 서대문구\n",
    "df1['교통량']= np.where((df1['교통량'].isna()) & (df1['시군구']=='서대문구'), 40000 , df1['교통량'])\n",
    "df1['교통량']= np.where((df1['교통량']==0) & (df1['시군구']=='서대문구'), 40000 , df1['교통량'])\n",
    "print(df1.loc[(df1['교통량'].isna()) & (df1['시군구']=='서대문구')])\n",
    "print(df1.loc[(df1['교통량']==0) & (df1['시군구']=='서대문구')])"
   ]
  },
  {
   "cell_type": "code",
   "execution_count": 20,
   "metadata": {
    "colab": {
     "base_uri": "https://localhost:8080/"
    },
    "executionInfo": {
     "elapsed": 413,
     "status": "ok",
     "timestamp": 1684383916922,
     "user": {
      "displayName": "이경훈",
      "userId": "01671798524273497956"
     },
     "user_tz": -540
    },
    "id": "eWh5Z9mtg7CP",
    "outputId": "3d6cd873-1228-4da8-d87f-3158f1821db4"
   },
   "outputs": [
    {
     "name": "stdout",
     "output_type": "stream",
     "text": [
      "Empty DataFrame\n",
      "Columns: [교량명, 시설물종별등급구분, 시도, 시군구, 교량연장, 교량폭, 차로수, 상부구조형식, 최종안전점검결과, 설계활하중, 준공후경과년수, 경간수, 최대경간장, 교통량]\n",
      "Index: []\n",
      "Empty DataFrame\n",
      "Columns: [교량명, 시설물종별등급구분, 시도, 시군구, 교량연장, 교량폭, 차로수, 상부구조형식, 최종안전점검결과, 설계활하중, 준공후경과년수, 경간수, 최대경간장, 교통량]\n",
      "Index: []\n"
     ]
    }
   ],
   "source": [
    "# 은평구\n",
    "df1['교통량']= np.where((df1['교통량'].isna()) & (df1['시군구']=='은평구'), 32000 , df1['교통량'])\n",
    "df1['교통량']= np.where((df1['교통량']==0) & (df1['시군구']=='은평구'), 32000 , df1['교통량'])\n",
    "print(df1.loc[(df1['교통량'].isna()) & (df1['시군구']=='은평구')])\n",
    "print(df1.loc[(df1['교통량']==0) & (df1['시군구']=='은평구')])"
   ]
  },
  {
   "cell_type": "code",
   "execution_count": 21,
   "metadata": {
    "colab": {
     "base_uri": "https://localhost:8080/"
    },
    "executionInfo": {
     "elapsed": 5,
     "status": "ok",
     "timestamp": 1684383919707,
     "user": {
      "displayName": "이경훈",
      "userId": "01671798524273497956"
     },
     "user_tz": -540
    },
    "id": "VpXH067phJgh",
    "outputId": "07789bb2-65e9-41eb-f6ab-7f3a882d9b65"
   },
   "outputs": [
    {
     "name": "stdout",
     "output_type": "stream",
     "text": [
      "Empty DataFrame\n",
      "Columns: [교량명, 시설물종별등급구분, 시도, 시군구, 교량연장, 교량폭, 차로수, 상부구조형식, 최종안전점검결과, 설계활하중, 준공후경과년수, 경간수, 최대경간장, 교통량]\n",
      "Index: []\n",
      "Empty DataFrame\n",
      "Columns: [교량명, 시설물종별등급구분, 시도, 시군구, 교량연장, 교량폭, 차로수, 상부구조형식, 최종안전점검결과, 설계활하중, 준공후경과년수, 경간수, 최대경간장, 교통량]\n",
      "Index: []\n"
     ]
    }
   ],
   "source": [
    "# 종로구\n",
    "df1['교통량']= np.where((df1['교통량'].isna()) & (df1['시군구']=='종로구'), 24000 , df1['교통량'])\n",
    "df1['교통량']= np.where((df1['교통량']==0) & (df1['시군구']=='종로구'), 24000 , df1['교통량'])\n",
    "print(df1.loc[(df1['교통량'].isna()) & (df1['시군구']=='종로구')])\n",
    "print(df1.loc[(df1['교통량']==0) & (df1['시군구']=='종로구')])"
   ]
  },
  {
   "cell_type": "code",
   "execution_count": 22,
   "metadata": {
    "colab": {
     "base_uri": "https://localhost:8080/"
    },
    "executionInfo": {
     "elapsed": 3,
     "status": "ok",
     "timestamp": 1684383922467,
     "user": {
      "displayName": "이경훈",
      "userId": "01671798524273497956"
     },
     "user_tz": -540
    },
    "id": "-I5E-fmohTuR",
    "outputId": "1e74536b-3b71-4826-e579-559eae04cc58"
   },
   "outputs": [
    {
     "name": "stdout",
     "output_type": "stream",
     "text": [
      "Empty DataFrame\n",
      "Columns: [교량명, 시설물종별등급구분, 시도, 시군구, 교량연장, 교량폭, 차로수, 상부구조형식, 최종안전점검결과, 설계활하중, 준공후경과년수, 경간수, 최대경간장, 교통량]\n",
      "Index: []\n",
      "Empty DataFrame\n",
      "Columns: [교량명, 시설물종별등급구분, 시도, 시군구, 교량연장, 교량폭, 차로수, 상부구조형식, 최종안전점검결과, 설계활하중, 준공후경과년수, 경간수, 최대경간장, 교통량]\n",
      "Index: []\n"
     ]
    }
   ],
   "source": [
    "# 중구\n",
    "df1['교통량']= np.where((df1['교통량'].isna()) & (df1['시군구']=='중구'), 42000 , df1['교통량'])\n",
    "df1['교통량']= np.where((df1['교통량']==0) & (df1['시군구']=='중구'), 42000 , df1['교통량'])\n",
    "print(df1.loc[(df1['교통량'].isna()) & (df1['시군구']=='중구')])\n",
    "print(df1.loc[(df1['교통량']==0) & (df1['시군구']=='중구')])"
   ]
  },
  {
   "cell_type": "code",
   "execution_count": 23,
   "metadata": {
    "colab": {
     "base_uri": "https://localhost:8080/"
    },
    "executionInfo": {
     "elapsed": 662,
     "status": "ok",
     "timestamp": 1684383925987,
     "user": {
      "displayName": "이경훈",
      "userId": "01671798524273497956"
     },
     "user_tz": -540
    },
    "id": "sz6f_6q8z6wE",
    "outputId": "e8d19ee1-ebdc-4b43-9b66-d2c11608632f"
   },
   "outputs": [
    {
     "name": "stdout",
     "output_type": "stream",
     "text": [
      "Empty DataFrame\n",
      "Columns: [교량명, 시설물종별등급구분, 시도, 시군구, 교량연장, 교량폭, 차로수, 상부구조형식, 최종안전점검결과, 설계활하중, 준공후경과년수, 경간수, 최대경간장, 교통량]\n",
      "Index: []\n",
      "Empty DataFrame\n",
      "Columns: [교량명, 시설물종별등급구분, 시도, 시군구, 교량연장, 교량폭, 차로수, 상부구조형식, 최종안전점검결과, 설계활하중, 준공후경과년수, 경간수, 최대경간장, 교통량]\n",
      "Index: []\n"
     ]
    }
   ],
   "source": [
    "# 강서구\n",
    "df1['교통량']= np.where((df1['교통량'].isna()) & (df1['시군구']=='강서구'), 30000 , df1['교통량'])\n",
    "df1['교통량']= np.where((df1['교통량']==0) & (df1['시군구']=='강서구'), 30000 , df1['교통량'])\n",
    "print(df1.loc[(df1['교통량'].isna()) & (df1['시군구']=='강서구')])\n",
    "print(df1.loc[(df1['교통량']==0) & (df1['시군구']=='강서구')])"
   ]
  },
  {
   "cell_type": "code",
   "execution_count": 24,
   "metadata": {
    "colab": {
     "base_uri": "https://localhost:8080/"
    },
    "executionInfo": {
     "elapsed": 2,
     "status": "ok",
     "timestamp": 1684383928502,
     "user": {
      "displayName": "이경훈",
      "userId": "01671798524273497956"
     },
     "user_tz": -540
    },
    "id": "zsBEBmzzz9UX",
    "outputId": "2ec96781-3e84-4579-8ae2-9dc8d104e6b6"
   },
   "outputs": [
    {
     "name": "stdout",
     "output_type": "stream",
     "text": [
      "Empty DataFrame\n",
      "Columns: [교량명, 시설물종별등급구분, 시도, 시군구, 교량연장, 교량폭, 차로수, 상부구조형식, 최종안전점검결과, 설계활하중, 준공후경과년수, 경간수, 최대경간장, 교통량]\n",
      "Index: []\n",
      "Empty DataFrame\n",
      "Columns: [교량명, 시설물종별등급구분, 시도, 시군구, 교량연장, 교량폭, 차로수, 상부구조형식, 최종안전점검결과, 설계활하중, 준공후경과년수, 경간수, 최대경간장, 교통량]\n",
      "Index: []\n"
     ]
    }
   ],
   "source": [
    "# 서초구\n",
    "df1['교통량']= np.where((df1['교통량'].isna()) & (df1['시군구']=='서초구'), 29000 , df1['교통량'])\n",
    "df1['교통량']= np.where((df1['교통량']==0) & (df1['시군구']=='서초구'), 29000 , df1['교통량'])\n",
    "print(df1.loc[(df1['교통량'].isna()) & (df1['시군구']=='서초구')])\n",
    "print(df1.loc[(df1['교통량']==0) & (df1['시군구']=='서초구')])"
   ]
  },
  {
   "cell_type": "code",
   "execution_count": 25,
   "metadata": {
    "colab": {
     "base_uri": "https://localhost:8080/"
    },
    "executionInfo": {
     "elapsed": 399,
     "status": "ok",
     "timestamp": 1684383930832,
     "user": {
      "displayName": "이경훈",
      "userId": "01671798524273497956"
     },
     "user_tz": -540
    },
    "id": "N3HwWymR0AgI",
    "outputId": "692be789-aaeb-4cef-f6ae-c4aa18a94475"
   },
   "outputs": [
    {
     "name": "stdout",
     "output_type": "stream",
     "text": [
      "Empty DataFrame\n",
      "Columns: [교량명, 시설물종별등급구분, 시도, 시군구, 교량연장, 교량폭, 차로수, 상부구조형식, 최종안전점검결과, 설계활하중, 준공후경과년수, 경간수, 최대경간장, 교통량]\n",
      "Index: []\n",
      "Empty DataFrame\n",
      "Columns: [교량명, 시설물종별등급구분, 시도, 시군구, 교량연장, 교량폭, 차로수, 상부구조형식, 최종안전점검결과, 설계활하중, 준공후경과년수, 경간수, 최대경간장, 교통량]\n",
      "Index: []\n"
     ]
    }
   ],
   "source": [
    "# 강남구\n",
    "df1['교통량']= np.where((df1['교통량'].isna()) & (df1['시군구']=='강남구'), 35000 , df1['교통량'])\n",
    "df1['교통량']= np.where((df1['교통량']==0) & (df1['시군구']=='강남구'), 35000 , df1['교통량'])\n",
    "print(df1.loc[(df1['교통량'].isna()) & (df1['시군구']=='강남구')])\n",
    "print(df1.loc[(df1['교통량']==0) & (df1['시군구']=='강남구')])"
   ]
  },
  {
   "cell_type": "code",
   "execution_count": 26,
   "metadata": {
    "colab": {
     "base_uri": "https://localhost:8080/"
    },
    "executionInfo": {
     "elapsed": 643,
     "status": "ok",
     "timestamp": 1684383933982,
     "user": {
      "displayName": "이경훈",
      "userId": "01671798524273497956"
     },
     "user_tz": -540
    },
    "id": "2CB38TXo0EMQ",
    "outputId": "f61f7ac2-c3f9-485e-fcd3-1309401566fa"
   },
   "outputs": [
    {
     "name": "stdout",
     "output_type": "stream",
     "text": [
      "Empty DataFrame\n",
      "Columns: [교량명, 시설물종별등급구분, 시도, 시군구, 교량연장, 교량폭, 차로수, 상부구조형식, 최종안전점검결과, 설계활하중, 준공후경과년수, 경간수, 최대경간장, 교통량]\n",
      "Index: []\n",
      "Empty DataFrame\n",
      "Columns: [교량명, 시설물종별등급구분, 시도, 시군구, 교량연장, 교량폭, 차로수, 상부구조형식, 최종안전점검결과, 설계활하중, 준공후경과년수, 경간수, 최대경간장, 교통량]\n",
      "Index: []\n"
     ]
    }
   ],
   "source": [
    "# 송파구\n",
    "df1['교통량']= np.where((df1['교통량'].isna()) & (df1['시군구']=='송파구'), 30000 , df1['교통량'])\n",
    "df1['교통량']= np.where((df1['교통량']==0) & (df1['시군구']=='송파구'), 30000 , df1['교통량'])\n",
    "print(df1.loc[(df1['교통량'].isna()) & (df1['시군구']=='송파구')])\n",
    "print(df1.loc[(df1['교통량']==0) & (df1['시군구']=='송파구')])"
   ]
  },
  {
   "cell_type": "code",
   "execution_count": 27,
   "metadata": {
    "colab": {
     "base_uri": "https://localhost:8080/"
    },
    "executionInfo": {
     "elapsed": 433,
     "status": "ok",
     "timestamp": 1684383937174,
     "user": {
      "displayName": "이경훈",
      "userId": "01671798524273497956"
     },
     "user_tz": -540
    },
    "id": "aPbyNrfB0IXR",
    "outputId": "27ceddca-1e5a-40d2-cba4-5203ee2d562d"
   },
   "outputs": [
    {
     "name": "stdout",
     "output_type": "stream",
     "text": [
      "Empty DataFrame\n",
      "Columns: [교량명, 시설물종별등급구분, 시도, 시군구, 교량연장, 교량폭, 차로수, 상부구조형식, 최종안전점검결과, 설계활하중, 준공후경과년수, 경간수, 최대경간장, 교통량]\n",
      "Index: []\n",
      "Empty DataFrame\n",
      "Columns: [교량명, 시설물종별등급구분, 시도, 시군구, 교량연장, 교량폭, 차로수, 상부구조형식, 최종안전점검결과, 설계활하중, 준공후경과년수, 경간수, 최대경간장, 교통량]\n",
      "Index: []\n"
     ]
    }
   ],
   "source": [
    "# 강동구\n",
    "df1['교통량']= np.where((df1['교통량'].isna()) & (df1['시군구']=='강동구'), 29000 , df1['교통량'])\n",
    "df1['교통량']= np.where((df1['교통량']==0) & (df1['시군구']=='강동구'), 29000 , df1['교통량'])\n",
    "print(df1.loc[(df1['교통량'].isna()) & (df1['시군구']=='강동구')])\n",
    "print(df1.loc[(df1['교통량']==0) & (df1['시군구']=='강동구')])"
   ]
  },
  {
   "cell_type": "code",
   "execution_count": 28,
   "metadata": {
    "colab": {
     "base_uri": "https://localhost:8080/"
    },
    "executionInfo": {
     "elapsed": 4,
     "status": "ok",
     "timestamp": 1684383940099,
     "user": {
      "displayName": "이경훈",
      "userId": "01671798524273497956"
     },
     "user_tz": -540
    },
    "id": "9GQONmuw0L_K",
    "outputId": "713a6587-d48d-483d-8ad2-e1ea8dc3215c"
   },
   "outputs": [
    {
     "name": "stdout",
     "output_type": "stream",
     "text": [
      "Empty DataFrame\n",
      "Columns: [교량명, 시설물종별등급구분, 시도, 시군구, 교량연장, 교량폭, 차로수, 상부구조형식, 최종안전점검결과, 설계활하중, 준공후경과년수, 경간수, 최대경간장, 교통량]\n",
      "Index: []\n",
      "Empty DataFrame\n",
      "Columns: [교량명, 시설물종별등급구분, 시도, 시군구, 교량연장, 교량폭, 차로수, 상부구조형식, 최종안전점검결과, 설계활하중, 준공후경과년수, 경간수, 최대경간장, 교통량]\n",
      "Index: []\n"
     ]
    }
   ],
   "source": [
    "# 광진구\n",
    "df1['교통량']= np.where((df1['교통량'].isna()) & (df1['시군구']=='광진구'), 31000 , df1['교통량'])\n",
    "df1['교통량']= np.where((df1['교통량']==0) & (df1['시군구']=='광진구'), 31000 , df1['교통량'])\n",
    "print(df1.loc[(df1['교통량'].isna()) & (df1['시군구']=='광진구')])\n",
    "print(df1.loc[(df1['교통량']==0) & (df1['시군구']=='광진구')])"
   ]
  },
  {
   "cell_type": "code",
   "execution_count": 29,
   "metadata": {
    "colab": {
     "base_uri": "https://localhost:8080/"
    },
    "executionInfo": {
     "elapsed": 391,
     "status": "ok",
     "timestamp": 1684383943149,
     "user": {
      "displayName": "이경훈",
      "userId": "01671798524273497956"
     },
     "user_tz": -540
    },
    "id": "1afzRkq70S6d",
    "outputId": "2b7cda85-bc41-42c8-931c-94b6b51767ad"
   },
   "outputs": [
    {
     "name": "stdout",
     "output_type": "stream",
     "text": [
      "Empty DataFrame\n",
      "Columns: [교량명, 시설물종별등급구분, 시도, 시군구, 교량연장, 교량폭, 차로수, 상부구조형식, 최종안전점검결과, 설계활하중, 준공후경과년수, 경간수, 최대경간장, 교통량]\n",
      "Index: []\n",
      "Empty DataFrame\n",
      "Columns: [교량명, 시설물종별등급구분, 시도, 시군구, 교량연장, 교량폭, 차로수, 상부구조형식, 최종안전점검결과, 설계활하중, 준공후경과년수, 경간수, 최대경간장, 교통량]\n",
      "Index: []\n"
     ]
    }
   ],
   "source": [
    "# 마포구\n",
    "df1['교통량']= np.where((df1['교통량'].isna()) & (df1['시군구']=='마포구'), 40000 , df1['교통량'])\n",
    "df1['교통량']= np.where((df1['교통량']==0) & (df1['시군구']=='마포구'), 40000 , df1['교통량'])\n",
    "print(df1.loc[(df1['교통량'].isna()) & (df1['시군구']=='마포구')])\n",
    "print(df1.loc[(df1['교통량']==0) & (df1['시군구']=='마포구')])"
   ]
  },
  {
   "cell_type": "code",
   "execution_count": 30,
   "metadata": {
    "colab": {
     "base_uri": "https://localhost:8080/"
    },
    "executionInfo": {
     "elapsed": 3,
     "status": "ok",
     "timestamp": 1684383945776,
     "user": {
      "displayName": "이경훈",
      "userId": "01671798524273497956"
     },
     "user_tz": -540
    },
    "id": "plTOxcD00Uyw",
    "outputId": "8d8e138d-bd9a-4f96-dafd-aa1762200c2c"
   },
   "outputs": [
    {
     "name": "stdout",
     "output_type": "stream",
     "text": [
      "Empty DataFrame\n",
      "Columns: [교량명, 시설물종별등급구분, 시도, 시군구, 교량연장, 교량폭, 차로수, 상부구조형식, 최종안전점검결과, 설계활하중, 준공후경과년수, 경간수, 최대경간장, 교통량]\n",
      "Index: []\n",
      "Empty DataFrame\n",
      "Columns: [교량명, 시설물종별등급구분, 시도, 시군구, 교량연장, 교량폭, 차로수, 상부구조형식, 최종안전점검결과, 설계활하중, 준공후경과년수, 경간수, 최대경간장, 교통량]\n",
      "Index: []\n"
     ]
    }
   ],
   "source": [
    "# 금천구\n",
    "df1['교통량']= np.where((df1['교통량'].isna()) & (df1['시군구']=='금천구'), 39000 , df1['교통량'])\n",
    "df1['교통량']= np.where((df1['교통량']==0) & (df1['시군구']=='금천구'), 39000 , df1['교통량'])\n",
    "print(df1.loc[(df1['교통량'].isna()) & (df1['시군구']=='금천구')])\n",
    "print(df1.loc[(df1['교통량']==0) & (df1['시군구']=='금천구')])"
   ]
  },
  {
   "cell_type": "code",
   "execution_count": 31,
   "metadata": {
    "colab": {
     "base_uri": "https://localhost:8080/"
    },
    "executionInfo": {
     "elapsed": 4,
     "status": "ok",
     "timestamp": 1684383948900,
     "user": {
      "displayName": "이경훈",
      "userId": "01671798524273497956"
     },
     "user_tz": -540
    },
    "id": "pvO8C0YC0rZo",
    "outputId": "43960954-19a1-429b-857b-133753e9e2ac"
   },
   "outputs": [
    {
     "name": "stdout",
     "output_type": "stream",
     "text": [
      "Empty DataFrame\n",
      "Columns: [교량명, 시설물종별등급구분, 시도, 시군구, 교량연장, 교량폭, 차로수, 상부구조형식, 최종안전점검결과, 설계활하중, 준공후경과년수, 경간수, 최대경간장, 교통량]\n",
      "Index: []\n",
      "Empty DataFrame\n",
      "Columns: [교량명, 시설물종별등급구분, 시도, 시군구, 교량연장, 교량폭, 차로수, 상부구조형식, 최종안전점검결과, 설계활하중, 준공후경과년수, 경간수, 최대경간장, 교통량]\n",
      "Index: []\n"
     ]
    }
   ],
   "source": [
    "# 중랑구\n",
    "df1['교통량']= np.where((df1['교통량'].isna()) & (df1['시군구']=='중랑구'), 35000 , df1['교통량'])\n",
    "df1['교통량']= np.where((df1['교통량']==0) & (df1['시군구']=='중랑구'), 35000 , df1['교통량'])\n",
    "print(df1.loc[(df1['교통량'].isna()) & (df1['시군구']=='중랑구')])\n",
    "print(df1.loc[(df1['교통량']==0) & (df1['시군구']=='중랑구')])"
   ]
  },
  {
   "cell_type": "code",
   "execution_count": 32,
   "metadata": {
    "colab": {
     "base_uri": "https://localhost:8080/"
    },
    "executionInfo": {
     "elapsed": 5,
     "status": "ok",
     "timestamp": 1684383950879,
     "user": {
      "displayName": "이경훈",
      "userId": "01671798524273497956"
     },
     "user_tz": -540
    },
    "id": "Ih3qBK4H0ywW",
    "outputId": "971ba2ed-65b6-43ef-8b72-61be8dff8523"
   },
   "outputs": [
    {
     "name": "stdout",
     "output_type": "stream",
     "text": [
      "Empty DataFrame\n",
      "Columns: [교량명, 시설물종별등급구분, 시도, 시군구, 교량연장, 교량폭, 차로수, 상부구조형식, 최종안전점검결과, 설계활하중, 준공후경과년수, 경간수, 최대경간장, 교통량]\n",
      "Index: []\n",
      "Empty DataFrame\n",
      "Columns: [교량명, 시설물종별등급구분, 시도, 시군구, 교량연장, 교량폭, 차로수, 상부구조형식, 최종안전점검결과, 설계활하중, 준공후경과년수, 경간수, 최대경간장, 교통량]\n",
      "Index: []\n"
     ]
    }
   ],
   "source": [
    "# 동대문구\n",
    "df1['교통량']= np.where((df1['교통량'].isna()) & (df1['시군구']=='동대문구'), 34000 , df1['교통량'])\n",
    "df1['교통량']= np.where((df1['교통량']==0) & (df1['시군구']=='동대문구'), 34000 , df1['교통량'])\n",
    "print(df1.loc[(df1['교통량'].isna()) & (df1['시군구']=='동대문구')])\n",
    "print(df1.loc[(df1['교통량']==0) & (df1['시군구']=='동대문구')])"
   ]
  },
  {
   "cell_type": "code",
   "execution_count": 33,
   "metadata": {
    "colab": {
     "base_uri": "https://localhost:8080/"
    },
    "executionInfo": {
     "elapsed": 5,
     "status": "ok",
     "timestamp": 1684383953240,
     "user": {
      "displayName": "이경훈",
      "userId": "01671798524273497956"
     },
     "user_tz": -540
    },
    "id": "3F9w4yBz00mO",
    "outputId": "958b8d70-a5f6-4730-e5b8-d1fc21ba2c74"
   },
   "outputs": [
    {
     "name": "stdout",
     "output_type": "stream",
     "text": [
      "Empty DataFrame\n",
      "Columns: [교량명, 시설물종별등급구분, 시도, 시군구, 교량연장, 교량폭, 차로수, 상부구조형식, 최종안전점검결과, 설계활하중, 준공후경과년수, 경간수, 최대경간장, 교통량]\n",
      "Index: []\n",
      "Empty DataFrame\n",
      "Columns: [교량명, 시설물종별등급구분, 시도, 시군구, 교량연장, 교량폭, 차로수, 상부구조형식, 최종안전점검결과, 설계활하중, 준공후경과년수, 경간수, 최대경간장, 교통량]\n",
      "Index: []\n"
     ]
    }
   ],
   "source": [
    "# 노원구\n",
    "df1['교통량']= np.where((df1['교통량'].isna()) & (df1['시군구']=='노원구'), 25000 , df1['교통량'])\n",
    "df1['교통량']= np.where((df1['교통량']==0) & (df1['시군구']=='노원구'), 25000 , df1['교통량'])\n",
    "print(df1.loc[(df1['교통량'].isna()) & (df1['시군구']=='노원구')])\n",
    "print(df1.loc[(df1['교통량']==0) & (df1['시군구']=='노원구')])"
   ]
  },
  {
   "cell_type": "code",
   "execution_count": 34,
   "metadata": {
    "colab": {
     "base_uri": "https://localhost:8080/"
    },
    "executionInfo": {
     "elapsed": 6,
     "status": "ok",
     "timestamp": 1684383957174,
     "user": {
      "displayName": "이경훈",
      "userId": "01671798524273497956"
     },
     "user_tz": -540
    },
    "id": "sSVYdlFH0-le",
    "outputId": "9e083fed-91d5-4ba1-9616-866f6ea79487"
   },
   "outputs": [
    {
     "name": "stdout",
     "output_type": "stream",
     "text": [
      "Empty DataFrame\n",
      "Columns: [교량명, 시설물종별등급구분, 시도, 시군구, 교량연장, 교량폭, 차로수, 상부구조형식, 최종안전점검결과, 설계활하중, 준공후경과년수, 경간수, 최대경간장, 교통량]\n",
      "Index: []\n",
      "Empty DataFrame\n",
      "Columns: [교량명, 시설물종별등급구분, 시도, 시군구, 교량연장, 교량폭, 차로수, 상부구조형식, 최종안전점검결과, 설계활하중, 준공후경과년수, 경간수, 최대경간장, 교통량]\n",
      "Index: []\n"
     ]
    }
   ],
   "source": [
    "# 성동구\n",
    "df1['교통량']= np.where((df1['교통량'].isna()) & (df1['시군구']=='성동구'), 35000 , df1['교통량'])\n",
    "df1['교통량']= np.where((df1['교통량']==0) & (df1['시군구']=='성동구'), 35000 , df1['교통량'])\n",
    "print(df1.loc[(df1['교통량'].isna()) & (df1['시군구']=='성동구')])\n",
    "print(df1.loc[(df1['교통량']==0) & (df1['시군구']=='성동구')])"
   ]
  },
  {
   "cell_type": "code",
   "execution_count": 35,
   "metadata": {
    "colab": {
     "base_uri": "https://localhost:8080/"
    },
    "executionInfo": {
     "elapsed": 6,
     "status": "ok",
     "timestamp": 1684383960571,
     "user": {
      "displayName": "이경훈",
      "userId": "01671798524273497956"
     },
     "user_tz": -540
    },
    "id": "oA7OX9kwCkPE",
    "outputId": "1e90142b-4ba4-4740-e17d-a1cc94d6a381"
   },
   "outputs": [
    {
     "name": "stdout",
     "output_type": "stream",
     "text": [
      "Empty DataFrame\n",
      "Columns: [교량명, 시설물종별등급구분, 시도, 시군구, 교량연장, 교량폭, 차로수, 상부구조형식, 최종안전점검결과, 설계활하중, 준공후경과년수, 경간수, 최대경간장, 교통량]\n",
      "Index: []\n",
      "Empty DataFrame\n",
      "Columns: [교량명, 시설물종별등급구분, 시도, 시군구, 교량연장, 교량폭, 차로수, 상부구조형식, 최종안전점검결과, 설계활하중, 준공후경과년수, 경간수, 최대경간장, 교통량]\n",
      "Index: []\n"
     ]
    }
   ],
   "source": [
    "# 영등포구\n",
    "df1['교통량']= np.where((df1['교통량'].isna()) & (df1['시군구']=='영등포구'), 39000 , df1['교통량'])\n",
    "df1['교통량']= np.where((df1['교통량']==0) & (df1['시군구']=='영등포구'), 39000 , df1['교통량'])\n",
    "print(df1.loc[(df1['교통량'].isna()) & (df1['시군구']=='영등포구')])\n",
    "print(df1.loc[(df1['교통량']==0) & (df1['시군구']=='영등포구')])"
   ]
  },
  {
   "cell_type": "code",
   "execution_count": 36,
   "metadata": {
    "colab": {
     "base_uri": "https://localhost:8080/"
    },
    "executionInfo": {
     "elapsed": 3,
     "status": "ok",
     "timestamp": 1684383963328,
     "user": {
      "displayName": "이경훈",
      "userId": "01671798524273497956"
     },
     "user_tz": -540
    },
    "id": "__Py2WOsCp4h",
    "outputId": "f229962a-da24-42ea-ce67-2f7a62f2c6fc"
   },
   "outputs": [
    {
     "name": "stdout",
     "output_type": "stream",
     "text": [
      "Empty DataFrame\n",
      "Columns: [교량명, 시설물종별등급구분, 시도, 시군구, 교량연장, 교량폭, 차로수, 상부구조형식, 최종안전점검결과, 설계활하중, 준공후경과년수, 경간수, 최대경간장, 교통량]\n",
      "Index: []\n",
      "Empty DataFrame\n",
      "Columns: [교량명, 시설물종별등급구분, 시도, 시군구, 교량연장, 교량폭, 차로수, 상부구조형식, 최종안전점검결과, 설계활하중, 준공후경과년수, 경간수, 최대경간장, 교통량]\n",
      "Index: []\n"
     ]
    }
   ],
   "source": [
    "# 용산구\n",
    "df1['교통량']= np.where((df1['교통량'].isna()) & (df1['시군구']=='용산구'), 43000 , df1['교통량'])\n",
    "df1['교통량']= np.where((df1['교통량']==0) & (df1['시군구']=='용산구'), 43000 , df1['교통량'])\n",
    "print(df1.loc[(df1['교통량'].isna()) & (df1['시군구']=='용산구')])\n",
    "print(df1.loc[(df1['교통량']==0) & (df1['시군구']=='용산구')])"
   ]
  },
  {
   "cell_type": "markdown",
   "metadata": {
    "id": "sE3MG4WZzjAN"
   },
   "source": [
    "## 경기도"
   ]
  },
  {
   "cell_type": "code",
   "execution_count": 37,
   "metadata": {
    "colab": {
     "base_uri": "https://localhost:8080/"
    },
    "executionInfo": {
     "elapsed": 9,
     "status": "ok",
     "timestamp": 1684383965757,
     "user": {
      "displayName": "이경훈",
      "userId": "01671798524273497956"
     },
     "user_tz": -540
    },
    "id": "aC72RMeEiAP5",
    "outputId": "c0e95eb5-abfe-4017-b55d-d262fd3bce15"
   },
   "outputs": [
    {
     "data": {
      "text/plain": [
       "36712.22439126784"
      ]
     },
     "execution_count": 37,
     "metadata": {},
     "output_type": "execute_result"
    }
   ],
   "source": [
    "df1['교통량'].mean()"
   ]
  },
  {
   "cell_type": "code",
   "execution_count": 38,
   "metadata": {
    "id": "tmV2Ax9GibZ3"
   },
   "outputs": [],
   "source": [
    "df2 = df1[['시도','교통량']].groupby(['시도'], as_index = False).mean()"
   ]
  },
  {
   "cell_type": "code",
   "execution_count": 39,
   "metadata": {
    "colab": {
     "base_uri": "https://localhost:8080/",
     "height": 112
    },
    "executionInfo": {
     "elapsed": 605,
     "status": "ok",
     "timestamp": 1684383973679,
     "user": {
      "displayName": "이경훈",
      "userId": "01671798524273497956"
     },
     "user_tz": -540
    },
    "id": "l4elJkTIjJV1",
    "outputId": "92da609e-8464-4942-f3c5-7204d7521c2e"
   },
   "outputs": [
    {
     "data": {
      "text/html": [
       "<div>\n",
       "<style scoped>\n",
       "    .dataframe tbody tr th:only-of-type {\n",
       "        vertical-align: middle;\n",
       "    }\n",
       "\n",
       "    .dataframe tbody tr th {\n",
       "        vertical-align: top;\n",
       "    }\n",
       "\n",
       "    .dataframe thead th {\n",
       "        text-align: right;\n",
       "    }\n",
       "</style>\n",
       "<table border=\"1\" class=\"dataframe\">\n",
       "  <thead>\n",
       "    <tr style=\"text-align: right;\">\n",
       "      <th></th>\n",
       "      <th>시도</th>\n",
       "      <th>교통량</th>\n",
       "    </tr>\n",
       "  </thead>\n",
       "  <tbody>\n",
       "    <tr>\n",
       "      <th>0</th>\n",
       "      <td>경기도</td>\n",
       "      <td>36308.610216</td>\n",
       "    </tr>\n",
       "    <tr>\n",
       "      <th>1</th>\n",
       "      <td>서울특별시</td>\n",
       "      <td>40908.653110</td>\n",
       "    </tr>\n",
       "  </tbody>\n",
       "</table>\n",
       "</div>"
      ],
      "text/plain": [
       "      시도           교통량\n",
       "0    경기도  36308.610216\n",
       "1  서울특별시  40908.653110"
      ]
     },
     "execution_count": 39,
     "metadata": {},
     "output_type": "execute_result"
    }
   ],
   "source": [
    "df2"
   ]
  },
  {
   "cell_type": "code",
   "execution_count": 40,
   "metadata": {
    "colab": {
     "base_uri": "https://localhost:8080/",
     "height": 246
    },
    "executionInfo": {
     "elapsed": 16,
     "status": "error",
     "timestamp": 1688908699706,
     "user": {
      "displayName": "이경훈",
      "userId": "01671798524273497956"
     },
     "user_tz": -540
    },
    "id": "DLBGzObBybBx",
    "outputId": "bd6bded7-2d20-40e5-bf1a-b0d73a2d0c39"
   },
   "outputs": [
    {
     "name": "stdout",
     "output_type": "stream",
     "text": [
      "Empty DataFrame\n",
      "Columns: [교량명, 시설물종별등급구분, 시도, 시군구, 교량연장, 교량폭, 차로수, 상부구조형식, 최종안전점검결과, 설계활하중, 준공후경과년수, 경간수, 최대경간장, 교통량]\n",
      "Index: []\n",
      "Empty DataFrame\n",
      "Columns: [교량명, 시설물종별등급구분, 시도, 시군구, 교량연장, 교량폭, 차로수, 상부구조형식, 최종안전점검결과, 설계활하중, 준공후경과년수, 경간수, 최대경간장, 교통량]\n",
      "Index: []\n"
     ]
    }
   ],
   "source": [
    "df1['교통량']= np.where((df1['교통량'].isna()) & (df1['시도']=='경기도') & (df1['시설물종별등급구분']=='기타'), 5000 , df1['교통량'])\n",
    "df1['교통량']= np.where((df1['교통량']==0) & (df1['시도']=='경기도') & (df1['시설물종별등급구분']=='기타'), 5000 , df1['교통량'])\n",
    "print(df1.loc[(df1['교통량'].isna()) & (df1['시도']=='경기도') & (df1['시설물종별등급구분']=='기타')])\n",
    "print(df1.loc[(df1['교통량']==0) & (df1['시도']=='경기도') & (df1['시설물종별등급구분']=='기타')])"
   ]
  },
  {
   "cell_type": "code",
   "execution_count": 41,
   "metadata": {
    "colab": {
     "base_uri": "https://localhost:8080/"
    },
    "executionInfo": {
     "elapsed": 6,
     "status": "ok",
     "timestamp": 1684383982091,
     "user": {
      "displayName": "이경훈",
      "userId": "01671798524273497956"
     },
     "user_tz": -540
    },
    "id": "XGN06mlRj65U",
    "outputId": "020587d9-b056-4020-9551-587bf6286341"
   },
   "outputs": [
    {
     "name": "stdout",
     "output_type": "stream",
     "text": [
      "Empty DataFrame\n",
      "Columns: [교량명, 시설물종별등급구분, 시도, 시군구, 교량연장, 교량폭, 차로수, 상부구조형식, 최종안전점검결과, 설계활하중, 준공후경과년수, 경간수, 최대경간장, 교통량]\n",
      "Index: []\n",
      "Empty DataFrame\n",
      "Columns: [교량명, 시설물종별등급구분, 시도, 시군구, 교량연장, 교량폭, 차로수, 상부구조형식, 최종안전점검결과, 설계활하중, 준공후경과년수, 경간수, 최대경간장, 교통량]\n",
      "Index: []\n"
     ]
    }
   ],
   "source": [
    "df1['교통량']= np.where((df1['교통량'].isna()) & (df1['시도']=='경기도'), 36000 , df1['교통량'])\n",
    "df1['교통량']= np.where((df1['교통량']==0) & (df1['시도']=='경기도'), 36000 , df1['교통량'])\n",
    "print(df1.loc[(df1['교통량'].isna()) & (df1['시도']=='경기도')])\n",
    "print(df1.loc[(df1['교통량']==0) & (df1['시도']=='경기도')])"
   ]
  },
  {
   "cell_type": "code",
   "execution_count": 42,
   "metadata": {
    "colab": {
     "base_uri": "https://localhost:8080/"
    },
    "executionInfo": {
     "elapsed": 8,
     "status": "ok",
     "timestamp": 1684383984991,
     "user": {
      "displayName": "이경훈",
      "userId": "01671798524273497956"
     },
     "user_tz": -540
    },
    "id": "hL9JBAkzh5eZ",
    "outputId": "3d661a76-e104-4fd7-b75b-ebed58e1ea1b"
   },
   "outputs": [
    {
     "data": {
      "text/plain": [
       "0"
      ]
     },
     "execution_count": 42,
     "metadata": {},
     "output_type": "execute_result"
    }
   ],
   "source": [
    "df1['교통량'].isna().sum()"
   ]
  },
  {
   "cell_type": "code",
   "execution_count": 43,
   "metadata": {
    "colab": {
     "base_uri": "https://localhost:8080/"
    },
    "executionInfo": {
     "elapsed": 411,
     "status": "ok",
     "timestamp": 1684383987456,
     "user": {
      "displayName": "이경훈",
      "userId": "01671798524273497956"
     },
     "user_tz": -540
    },
    "id": "qdQkQMwph8nq",
    "outputId": "91e71cac-32b5-4944-a973-7f3c03218ed5"
   },
   "outputs": [
    {
     "data": {
      "text/plain": [
       "0"
      ]
     },
     "execution_count": 43,
     "metadata": {},
     "output_type": "execute_result"
    }
   ],
   "source": [
    "df1['교통량'].isin([0]).sum()"
   ]
  },
  {
   "cell_type": "code",
   "execution_count": 45,
   "metadata": {},
   "outputs": [],
   "source": [
    "df1 = df1.drop(columns=['시도', '시군구'])"
   ]
  },
  {
   "cell_type": "code",
   "execution_count": 46,
   "metadata": {},
   "outputs": [
    {
     "name": "stdout",
     "output_type": "stream",
     "text": [
      "<class 'pandas.core.frame.DataFrame'>\n",
      "RangeIndex: 5680 entries, 0 to 5679\n",
      "Data columns (total 12 columns):\n",
      " #   Column     Non-Null Count  Dtype  \n",
      "---  ------     --------------  -----  \n",
      " 0   교량명        5680 non-null   object \n",
      " 1   시설물종별등급구분  5680 non-null   object \n",
      " 2   교량연장       5680 non-null   float64\n",
      " 3   교량폭        5680 non-null   float64\n",
      " 4   차로수        5680 non-null   int64  \n",
      " 5   상부구조형식     5680 non-null   object \n",
      " 6   최종안전점검결과   5680 non-null   object \n",
      " 7   설계활하중      5680 non-null   object \n",
      " 8   준공후경과년수    5680 non-null   int64  \n",
      " 9   경간수        5680 non-null   float64\n",
      " 10  최대경간장      5680 non-null   float64\n",
      " 11  교통량        5680 non-null   float64\n",
      "dtypes: float64(5), int64(2), object(5)\n",
      "memory usage: 532.6+ KB\n"
     ]
    }
   ],
   "source": [
    "df1.info()"
   ]
  },
  {
   "cell_type": "code",
   "execution_count": 47,
   "metadata": {
    "id": "PgkeG8ahky8l"
   },
   "outputs": [],
   "source": [
    "df1.to_csv('data/교량_통합_정제_2.csv', encoding='utf-8-sig', index=False)"
   ]
  }
 ],
 "metadata": {
  "colab": {
   "authorship_tag": "ABX9TyOnqoW1hUxYkO4pUqcIEYsk",
   "mount_file_id": "1IqIRu2fQg1jK9Y5hdiXmp8xeJas0xI6M",
   "provenance": []
  },
  "kernelspec": {
   "display_name": "Python 3 (ipykernel)",
   "language": "python",
   "name": "python3"
  },
  "language_info": {
   "codemirror_mode": {
    "name": "ipython",
    "version": 3
   },
   "file_extension": ".py",
   "mimetype": "text/x-python",
   "name": "python",
   "nbconvert_exporter": "python",
   "pygments_lexer": "ipython3",
   "version": "3.10.9"
  }
 },
 "nbformat": 4,
 "nbformat_minor": 1
}
